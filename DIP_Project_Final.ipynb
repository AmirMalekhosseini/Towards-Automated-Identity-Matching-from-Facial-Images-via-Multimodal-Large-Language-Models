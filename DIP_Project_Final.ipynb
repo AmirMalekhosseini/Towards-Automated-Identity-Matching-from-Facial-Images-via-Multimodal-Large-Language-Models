{
  "nbformat": 4,
  "nbformat_minor": 0,
  "metadata": {
    "colab": {
      "provenance": [],
      "gpuType": "T4"
    },
    "kernelspec": {
      "name": "python3",
      "display_name": "Python 3"
    },
    "language_info": {
      "name": "python"
    },
    "accelerator": "GPU"
  },
  "cells": [
    {
      "cell_type": "code",
      "source": [
        "from google.colab import drive\n",
        "import os\n",
        "\n",
        "drive.mount('/content/drive')\n",
        "\n",
        "project_path = \"/content/drive/MyDrive/DIP_Project_Final/Final_Code\"\n",
        "\n",
        "os.chdir(project_path)\n",
        "print(f\"✅ Working directory set to: {os.getcwd()}\")"
      ],
      "metadata": {
        "id": "X0Vj-dPjfE_N"
      },
      "execution_count": null,
      "outputs": []
    },
    {
      "cell_type": "code",
      "source": [
        "\n",
        "print(\"\\n Installing software...\")\n",
        "!apt-get update -qq && apt-get install -y firefox > /dev/null\n",
        "!pip install -q -r requirements.txt\n",
        "\n",
        "print(\"✅ Setup complete.\")"
      ],
      "metadata": {
        "id": "xCX6JLOXZEiz"
      },
      "execution_count": null,
      "outputs": []
    },
    {
      "cell_type": "code",
      "source": [
        "\n",
        "!pip install -q --force-reinstall torch==2.1.0 torchvision==0.16.0 --index-url https://download.pytorch.org/whl/cu118\n",
        "!pip install -q \"numpy<2\"\n"
      ],
      "metadata": {
        "id": "aoT8pWyEa3Es",
        "collapsed": true
      },
      "execution_count": null,
      "outputs": []
    },
    {
      "cell_type": "code",
      "source": [
        "# Main Pipeline\n",
        "import shutil\n",
        "import os\n",
        "\n",
        "output_dir_path = \"Output\"\n",
        "results_dir_path = \"reverse_image_search_results_new\"\n",
        "\n",
        "if os.path.exists(output_dir_path):\n",
        "    shutil.rmtree(output_dir_path)\n",
        "if os.path.exists(results_dir_path):\n",
        "    shutil.rmtree(results_dir_path)\n",
        "print(f\" Cleaned up old directories.\")\n",
        "\n",
        "os.makedirs(output_dir_path)\n",
        "os.makedirs(results_dir_path)\n",
        "print(f\" Created new output directories.\")\n",
        "\n",
        "\n",
        "# Run  main\n",
        "print(\"\\n Starting the image processing pipeline...\")\n",
        "!python -m main\n",
        "print(\"\\n Pipeline finished!\")"
      ],
      "metadata": {
        "id": "TfsUptN0ZUI5"
      },
      "execution_count": null,
      "outputs": []
    }
  ]
}